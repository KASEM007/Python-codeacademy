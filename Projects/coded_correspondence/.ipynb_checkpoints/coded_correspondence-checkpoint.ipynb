{
 "cells": [
  {
   "cell_type": "markdown",
   "metadata": {},
   "source": [
    "# Casual Coded Correspondence: The Project\n",
    "\n",
    "In this project, you will be working to code and decode various messages between you and your fictional cryptography enthusiast pen pal Vishal. You and Vishal have been exchanging letters for quite some time now and have started to provide a puzzle in each one of your letters.  Here is his most recent letter:\n",
    "\n",
    "     Hey there! How have you been? I've been great! I just learned about this really cool type of cipher called a  Caesar Cipher. Here's how it works: You take your message, something like \"hello\" and then you shift all of the letters by a certain offset. For example, if I chose an offset of 3 and a message of \"hello\", I would code my message by shifting each letter 3 places to the left (with respect to the alphabet). So \"h\" becomes \"e\", \"e\" becomes, \"b\", \"l\" becomes \"i\", and \"o\" becomes \"l\". Then I have my coded message,\"ebiil\"! Now I can send you my message and the offset and you can decode it. The best thing is that Julius Caesar himself used this cipher, that's why it's called the Caesar Cipher! Isn't that so cool! Okay, now I'm going to send you a longer coded message that you have to decode yourself!\n",
    "    \n",
    "        xuo jxuhu! jxyi yi qd unqcfbu ev q squiqh syfxuh. muhu oek qrbu je tusetu yj? y xefu ie! iudt cu q cuiiqwu rqsa myjx jxu iqcu evviuj!\n",
    "    \n",
    "    This message has an offset of 10. Can you decode it?\n",
    "    \n",
    "\n",
    "#### Step 1: Decode Vishal's Message\n",
    "In the cell below, use your Python skills to decode Vishal's message and print the result. Hint: you can account for shifts that go past the end of the alphabet using the modulus operator, but I'll let you figure out how!"
   ]
  },
  {
   "cell_type": "code",
   "execution_count": 8,
   "metadata": {},
   "outputs": [
    {
     "name": "stdout",
     "output_type": "stream",
     "text": [
      "hey there! this is an examble of a caesar cibher. were you able to decode it? i hobe so! send me a message back with the same offset!\n"
     ]
    }
   ],
   "source": [
    "#alpha = \"abcdefghijklmnobqrstuvwxyz\"\n",
    "#punctuation = \"., ?, !\"\n",
    "message = \"xuo jxuhu! jxyi yi qd unqcfbu ev q squiqh syfxuh. muhu oek qrbu je tusetu yj? y xefu ie! iudt cu q cuiiqwu rqsa myjx jxu iqcu evviuj!\"\n",
    "#translate_message = \"\"\n",
    "\n",
    "def coded_message(message, offset):\n",
    "    alpha = \"abcdefghijklmnobqrstuvwxyz\"\n",
    "    translate_message = \"\"\n",
    "    \n",
    "    for char in message:\n",
    "        if char not in alpha:\n",
    "            translate_message += char\n",
    "        else:\n",
    "            char_idx = alpha.find(char)\n",
    "            translate_message += alpha[(char_idx + offset) % 26]\n",
    "    return(translate_message)\n",
    "    \n",
    "        \n",
    "print(coded_message(message, 10))\n",
    "        "
   ]
  },
  {
   "cell_type": "markdown",
   "metadata": {},
   "source": [
    "#### Step 2: Send Vishal a Coded Message\n",
    "Great job! Now send Vishal back a message using the same offset. Your message can be anything you want! Remember, coding happens in opposite direction of decoding."
   ]
  },
  {
   "cell_type": "code",
   "execution_count": 9,
   "metadata": {},
   "outputs": [
    {
     "name": "stdout",
     "output_type": "stream",
     "text": [
      "Tcdn rdgg azzg bmzvo rczi do rjmfn, I azzg gdfz v npt, evhzn wjiy, hvi rdoc v pgvi viy gdxzinz oj fdgg gjg.\n"
     ]
    }
   ],
   "source": [
    "message = \"This will feel great when it works, I feel like a spy, james bond, man with a plan and license to kill lol.\"\n",
    "\n",
    "def decoded_message(message, offset):\n",
    "    alpha = \"abcdefghijklmnobqrstuvwxyz\"\n",
    "    translate_message = \"\"\n",
    "    \n",
    "    for char in message:\n",
    "        if char not in alpha:\n",
    "            translate_message += char\n",
    "        else:\n",
    "            char_idx = alpha.find(char)\n",
    "            translate_message += alpha[(char_idx - offset) % 26]\n",
    "        \n",
    "    return translate_message\n",
    "\n",
    "print(decoded_message(message, 5))    "
   ]
  },
  {
   "cell_type": "markdown",
   "metadata": {},
   "source": [
    "#### Step 3: Make functions for decoding and coding \n",
    "\n",
    "Vishal sent over another reply, this time with two coded messages!\n",
    "    \n",
    "    You're getting the hang of this! Okay here are two more messages, the first one is coded just like before with  an offset of ten, and it contains the hint for decoding the second message!\n",
    "    \n",
    "    First message:\n",
    "    \n",
    "        jxu evviuj veh jxu iusedt cuiiqwu yi vekhjuud.\n",
    "        \n",
    "    Second message:\n",
    "    \n",
    "        bqdradyuzs ygxfubxq omqemd oubtqde fa oapq kagd yqeemsqe ue qhqz yadq eqogdq!\n",
    "    \n",
    "Decode both of these messages. \n",
    "\n",
    "If you haven't already, define two functions `decoder(message, offset)` and `coder(message, offset)` that can be used to quickly decode and code messages given any offset."
   ]
  },
  {
   "cell_type": "code",
   "execution_count": 31,
   "metadata": {},
   "outputs": [
    {
     "name": "stdout",
     "output_type": "stream",
     "text": [
      "the offset for the second message is fourteen.\n"
     ]
    }
   ],
   "source": [
    "message_1 = \"jxu evviuj veh jxu iusedt cuiiqwu yi vekhjuud.\"\n",
    "message_2 = \"bqdradyuzs ygxfubxq omqemd oubtqde fa oapq kagd yqeemsqe ue qhqz yadq eqogdq!\"\n",
    "\n",
    "def decoder_message(message, offset):\n",
    "    alpha = \"abcdefghijklmnobqrstuvwxyz\"\n",
    "    t_message = \"\"\n",
    "    \n",
    "    for char in message:\n",
    "        if char not in alpha:\n",
    "            t_message += char\n",
    "        else:\n",
    "            char_idx = alpha.find(char)\n",
    "            t_message += alpha[(char_idx + offset) % 26]\n",
    "    return t_message\n",
    "    \n",
    "print(decoder_message(message_1, 10))\n",
    "\n",
    "\n",
    "\n",
    "def coder_message(message, offset):\n",
    "    alpha = \"abcdefghijklmnobqrstuvwxyz\"\n",
    "    t_message = \"\"\n",
    "    \n",
    "    for char in message:\n",
    "        if char not in alpha:\n",
    "            t_message += char\n",
    "        else:\n",
    "            char_idx = alpha.find(char)\n",
    "            t_message += alpha[(char_idx - offset) % 26]\n",
    "    return t_message\n",
    "\n"
   ]
  },
  {
   "cell_type": "code",
   "execution_count": 32,
   "metadata": {},
   "outputs": [
    {
     "name": "stdout",
     "output_type": "stream",
     "text": [
      "berforming multible caesar cibhers to cope your messages is even more secure!\n"
     ]
    }
   ],
   "source": [
    "print(decoder_message(message_2, 14))\n",
    "    "
   ]
  },
  {
   "cell_type": "markdown",
   "metadata": {},
   "source": [
    "#### Step 4: Solving a Caesar Cipher without knowing the shift value\n",
    "\n",
    "Awesome work! While you were working to decode his last two messages, Vishal sent over another letter! He's really been bitten by the crytpo-bug. Read it and see what interesting task he has lined up for you this time.\n",
    "\n",
    "            Hello again friend! I knew you would love the Caesar Cipher, it's a cool simple way to encrypt messages. Did you know that back in Caesar's time, it was considered a very secure way of communication and it took a lot of effort to crack if you were unaware of the value of the shift? That's all changed with computers! Now we can brute force these kinds of ciphers very quickly, as I'm sure you can imagine.\n",
    "            \n",
    "            To test your cryptography skills, this next coded message is going to be harder than the last couple to crack. It's still going to be coded with a Caesar Cipher but this time I'm not going to tell you the value of   the shift. You'll have to brute force it yourself.\n",
    "            \n",
    "            Here's the coded message:\n",
    "            \n",
    "            vhfinmxkl atox kxgwxkxw tee hy maxlx hew vbiaxkl tl hulhexmx. px'ee atox mh kxteer lmxi ni hnk ztfx by px ptgm mh dxxi hnk fxlltzxl ltyx.\n",
    "            \n",
    "            Good luck!\n",
    "            \n",
    "Decode Vishal's most recent message and see what it says!"
   ]
  },
  {
   "cell_type": "code",
   "execution_count": 37,
   "metadata": {},
   "outputs": [
    {
     "name": "stdout",
     "output_type": "stream",
     "text": [
      "offset: 0\n",
      "\t vhfinmxkl atox kxgwxkxw tee hy maxlx hew vbiaxkl tl hulhexmx. px'ee atox mh kxteer lmxi ni hnk ztfx by px ptgm mh dxxi hnk fxlltzxl ltyx.\n",
      "\n",
      "offset: 1\n",
      "\t wigjonylm buby lyhxylyx uff iz nbymy ifx wcjbylm um ivmifyny. py'ff buby ni lyuffs mnyj oj iol augy cz py puhn ni eyyj iol gymmuaym muzy.\n",
      "\n",
      "offset: 2\n",
      "\t xjhkbozmn cvqz mziyzmzy vgg ja ocznz jgy xdkczmn vn jwnjgzoz. pz'gg cvqz oj mzvggt nozk bk jbm bvhz da pz pvio oj fzzk jbm hznnvbzn nvaz.\n",
      "\n",
      "offset: 3\n",
      "\t ykilqbano dwra najzanaz whh kb bdaoa khz yeldano wo kxokhaba. pa'hh dwra bk nawhhu obal ql kqn cwia eb pa pwjb bk gaal kqn iaoowcao owba.\n",
      "\n",
      "offset: 4\n",
      "\t zljmrqbob exsb obkaboba xii lc qebbb lia zfmebob xb lyblibqb. pb'ii exsb ql obxiiv bqbm rm lro dxjb fc pb pxkq ql hbbm lro jbbbxdbb bxcb.\n",
      "\n",
      "offset: 5\n",
      "\t amknsrcbq fytc bclbcbcb yjj md rfcqc mjb agnfcbq yq mzqmjcrc. pc'jj fytc rm bcyjjw qrcn sn msb eykc gd pc pylr rm iccn msb kcqqyecq qydc.\n",
      "\n",
      "offset: 6\n",
      "\t bnlotsdqr gzud qdmcdqdc zkk ne sgdrd nkc bhogdqr zr narnkdsd. pd'kk gzud sn qdzkkx rsdo to ntq fzld he pd pzms sn jddo ntq ldrrzfdr rzed.\n",
      "\n",
      "offset: 7\n",
      "\t combuters have rendered all of these old cibhers as obsolete. pe'll have to really steb ub our game if pe pant to keeb our messages safe.\n",
      "\n",
      "offset: 8\n",
      "\t dbnqvufst ibwf sfoefsfe bmm bg uiftf bme djqifst bt bctbmfuf. pf'mm ibwf ub sfbmmz tufq vq bvs hbnf jg pf pbou ub lffq bvs nfttbhft tbgf.\n",
      "\n",
      "offset: 9\n",
      "\t eqorwvgtu jcxg tgbfgtgf cnn qh vjgug qnf ekrjgtu cu qduqngvg. pg'nn jcxg vq tgcnna uvgr wr qwt icog kh pg pcbv vq mggr qwt oguucigu uchg.\n",
      "\n",
      "offset: 10\n",
      "\t frbsxwhuv kdyh uhqghuhg doo ri wkhvh rog flskhuv dv revrohwh. ph'oo kdyh wr uhdoob vwhs xs rxu jdbh li ph pdqw wr nhhs rxu bhvvdjhv vdih.\n",
      "\n",
      "offset: 11\n",
      "\t gsqtyxivw lezi virhivih ebb sj xliwi sbh gmtlivw ew sfwsbixi. pi'bb lezi xs viebbc wxit yt syv keqi mj pi perx xs oiit syv qiwwekiw weji.\n",
      "\n",
      "offset: 12\n",
      "\t htruzyjwx mfaj wjsijwji fqq tk ymjxj tqi hnumjwx fx tgxtqjyj. pj'qq mfaj yt wjfqqd xyju zu tzw lfrj nk pj pfsy yt bjju tzw rjxxfljx xfkj.\n",
      "\n",
      "offset: 13\n",
      "\t iusvazkxy ngbk xktjkxkj grr ul znkyk urj iovnkxy gy uhyurkzk. pk'rr ngbk zu xkgrre yzkv av uax mgsk ol pk pgtz zu qkkv uax skyygmky yglk.\n",
      "\n",
      "offset: 14\n",
      "\t jvtwbalyz ohcl yluklylk hss vm aolzl vsk jbwolyz hz vizvslal. pl'ss ohcl av ylhssf zalw bw vby nhtl bm pl phua av rllw vby tlzzhnlz zhml.\n",
      "\n",
      "offset: 15\n",
      "\t kwuxcbmza bidm zmvlmzml itt wn bbmam wtl kqxbmza ia wjawtmbm. pm'tt bidm bw zmittg abmx cx wcz oium qn pm pivb bw smmx wcz umaaioma ainm.\n",
      "\n",
      "offset: 16\n",
      "\t lxvydcnab qjen anwmnanm juu xo cqnbn xum lryqnab jb xkbxuncn. pn'uu qjen cx anjuuh bcny dy xda bjvn ro pn pjwc cx tnny xda vnbbjbnb bjon.\n",
      "\n",
      "offset: 17\n",
      "\t mywzedobc rkfo boxnobon kvv yb droco yvn mszrobc kc ylcyvodo. po'vv rkfo dy bokvvi cdoz ez yeb qkwo sb po pkxd dy uooz yeb wocckqoc ckbo.\n",
      "\n",
      "offset: 18\n",
      "\t nzxafebcd slgb cbyobcbo lww zq esbdb zwo ntasbcd ld zmdzwbeb. pb'ww slgb ez cblwwj deba fa zfc rlxb tq pb plye ez vbba zfc xbddlrbd dlqb.\n",
      "\n",
      "offset: 19\n",
      "\t oaybgfqde tmhq dqzbqdqb mxx ar ftqeq axb oubtqde me aneaxqfq. pq'xx tmhq fa dqmxxk efqb gb agd smyq ur pq pmzf fa wqqb agd yqeemsqe emrq.\n",
      "\n",
      "offset: 20\n",
      "\t bbzchgref unir eraqrerq nyy bs gurfr byq bvcuref nf bofbyrgr. pr'yy unir gb ernyyl fgrc hc bhe tnzr vs pr pnag gb xrrc bhe zrffntrf fnsr.\n",
      "\n",
      "offset: 21\n",
      "\t qcadihsfg vojs fsbrsfsr ozz ct hvsgs czr qwdvsfg og cbgczshs. ps'zz vojs hc fsozzm ghsd id cif uoas wt ps pobh hc yssd cif asggousg gots.\n",
      "\n",
      "offset: 22\n",
      "\t rdbejitgh wbkt gtcstgts baa du iwtht das rxewtgh bh dqhdatit. pt'aa wbkt id gtbaan hite je djg vbbt xu pt pbci id ztte djg bthhbvth hbut.\n",
      "\n",
      "offset: 23\n",
      "\t secfkjuhi xqlu hudtuhut qbb ev jxuiu ebt syfxuhi qi eriebuju. pu'bb xqlu je huqbbo ijuf kf ekh wqcu yv pu pqdj je auuf ekh cuiiqwui iqvu.\n",
      "\n",
      "offset: 24\n",
      "\t tfdglkvij yrmv iveuvivu rcc fw kyvjv fcu tzgyvij rj fsjfcvkv. pv'cc yrmv kf ivrccb jkvg lg fli xrdv zw pv prek kf bvvg fli dvjjrxvj jrwv.\n",
      "\n",
      "offset: 25\n",
      "\t ugehmlwjk zsnw jwfvwjwv sdd gx lzwkw gdv uahzwjk sk gtkgdwlw. pw'dd zsnw lg jwsddq klwh mh gmj ysew ax pw psfl lg cwwh gmj ewkksywk ksxw.\n",
      "\n"
     ]
    }
   ],
   "source": [
    "coded_message = \"vhfinmxkl atox kxgwxkxw tee hy maxlx hew vbiaxkl tl hulhexmx. px'ee atox mh kxteer lmxi ni hnk ztfx by px ptgm mh dxxi hnk fxlltzxl ltyx.\"\n",
    "for i in range(0, 26):\n",
    "    print(\"offset: \" + str(i))\n",
    "    print(\"\\t \" + decoder_message(coded_message, i) + \"\\n\")"
   ]
  },
  {
   "cell_type": "markdown",
   "metadata": {},
   "source": [
    "#### Step 5: The Vigenère Cipher\n",
    "\n",
    "Great work! While you were working on the brute force cracking of the cipher, Vishal sent over another letter. That guy is a letter machine!\n",
    "\n",
    "            Salutations! As you can see, technology has made brute forcing simple ciphers like the Caesar Cipher extremely easy, and us crypto-enthusiasts have had to get more creative and use more complicated ciphers. This next cipher I'm going to teach you is the Vigenère Cipher, invented by an Italian cryptologist named Giovan Battista Bellaso (cool name eh?) in the 16th century, but named after another cryptologist from the 16th century, Blaise de Vigenère.\n",
    "            \n",
    "           The Vigenère Cipher is a polyalphabetic substitution cipher, as opposed to the Caesar Cipher which was a monoalphabetic substitution cipher. What this means is that opposed to having a single shift that is applied to every letter, the Vigenère Cipher has a different shift for each individual letter. The value of the shift for each letter is determined by a given keyword.\n",
    "           \n",
    "           Consider the message\n",
    "           \n",
    "               barry is the spy\n",
    "\n",
    "           If we want to code this message, first we choose a keyword. For this example, we'll use the keyword\n",
    "           \n",
    "               dog\n",
    "               \n",
    "           Now we use the repeat the keyword over and over to generate a _keyword phrase_ that is the same length as the message we want to code. So if we want to code the message \"barry is the spy\" our _keyword phrase_ is \"dogdo gd ogd ogd\". Now we are ready to start coding our message. We shift the each letter of our message by the place value of the corresponding letter in the keyword phrase, assuming that \"a\" has a place value of 0, \"b\" has a place value of 1, and so forth. Remember, we zero-index because this is Python we're talking about!\n",
    "\n",
    "                        message:       b  a  r  r  y    i  s   t  h  e   s  p  y\n",
    "                \n",
    "                 keyword phrase:       d  o  g  d  o    g  d   o  g  d   o  g  d\n",
    "                 \n",
    "          resulting place value:       4  14 15 12 16   24 11  21 25 22  22 17 5\n",
    "      \n",
    "            So we shift \"b\", which has an index of 1, by the index of \"d\", which is 3. This gives us an place value of 4, which is \"e\". Then continue the trend: we shift \"a\" by the place value of \"o\", 14, and get \"o\" again, we shift \"r\" by the place value of \"g\", 15, and get \"x\", shift the next \"r\" by 12 places and \"u\", and so forth. Once we complete all the shifts we end up with our coded message:\n",
    "            \n",
    "                eoxum ov hnh gvb\n",
    "                \n",
    "            As you can imagine, this is a lot harder to crack without knowing the keyword! So now comes the hard part. I'll give you a message and the keyword, and you'll see if you can figure out how to crack it! Ready? Okay here's my message:\n",
    "            \n",
    "                dfc aruw fsti gr vjtwhr wznj? vmph otis! cbx swv jipreneo uhllj kpi rahjib eg fjdkwkedhmp!\n",
    "                \n",
    "            and the keyword to decode my message is \n",
    "            \n",
    "                friends\n",
    "                \n",
    "            Because that's what we are! Good luck friend!\n",
    "           \n",
    "And there it is. Vishal has given you quite the assignment this time! Try to decode his message. It may be helpful to create a function that takes two parameters, the coded message and the keyword and then work towards a solution from there.\n",
    "\n",
    "**NOTE:** Watch out for spaces and punctuation! When there's a space or punctuation mark in the original message, there should be a space/punctuation mark in the corresponding repeated-keyword string as well! "
   ]
  },
  {
   "cell_type": "code",
   "execution_count": null,
   "metadata": {},
   "outputs": [],
   "source": []
  },
  {
   "cell_type": "markdown",
   "metadata": {},
   "source": [
    "#### Step 6: Send a message with the  Vigenère Cipher\n",
    "Great work decoding the message. For your final task, write a function that can encode a message using a given keyword and write out a message to send to Vishal!\n",
    "\n",
    "*As a bonus, try calling your decoder function on the result of your encryption function. You should get the original message back!*"
   ]
  },
  {
   "cell_type": "code",
   "execution_count": null,
   "metadata": {},
   "outputs": [],
   "source": []
  },
  {
   "cell_type": "markdown",
   "metadata": {},
   "source": [
    "#### Conclusion\n",
    "Over the course of this project you've learned about two different cipher methods and have used your Python skills to code and decode messages. There are all types of other facinating ciphers out there to explore, and Python is the perfect language to implement them with, so go exploring! "
   ]
  }
 ],
 "metadata": {
  "kernelspec": {
   "display_name": "Python 3",
   "language": "python",
   "name": "python3"
  },
  "language_info": {
   "codemirror_mode": {
    "name": "ipython",
    "version": 3
   },
   "file_extension": ".py",
   "mimetype": "text/x-python",
   "name": "python",
   "nbconvert_exporter": "python",
   "pygments_lexer": "ipython3",
   "version": "3.7.6"
  }
 },
 "nbformat": 4,
 "nbformat_minor": 4
}
